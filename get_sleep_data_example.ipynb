{
 "cells": [
  {
   "cell_type": "markdown",
   "metadata": {},
   "source": [
    "# Fitbit Sleep Data\n",
    "\n",
    "This notebook focuses on how to pull sleep data from the fitbit api. To access the api, clone the [fitbit repo](https://www.github.com/orcasgit/python-fitbit) and install the required packages. "
   ]
  },
  {
   "cell_type": "markdown",
   "metadata": {},
   "source": [
    "### Connect to the Fitbit API \n",
    "First, setup your account and create a fitbit app. After registering for your fitbit app, you'll be able to access your Client ID and Client Secret. Use the ID and Secret to obtain the access and refresh tokens that authorize us to retrieve your data.  "
   ]
  },
  {
   "cell_type": "code",
   "execution_count": 18,
   "metadata": {},
   "outputs": [],
   "source": [
    "import fitbit\n",
    "import gather_keys_oauth2 as Oauth2\n",
    "import pandas as pd \n",
    "import datetime\n",
    "\n",
    "# Register fitbit app and grab the OAuth 2.0 Client ID and the Client Secret.\n",
    "CLIENT_ID = '22B4CV'\n",
    "CLIENT_SECRET = 'b612703aa18b03f568798e8dbb5a0636'"
   ]
  },
  {
   "cell_type": "code",
   "execution_count": 6,
   "metadata": {},
   "outputs": [
    {
     "name": "stderr",
     "output_type": "stream",
     "text": [
      "[23/Sep/2019:19:04:31] ENGINE Listening for SIGTERM.\n",
      "[23/Sep/2019:19:04:31] ENGINE Listening for SIGHUP.\n",
      "[23/Sep/2019:19:04:31] ENGINE Listening for SIGUSR1.\n",
      "[23/Sep/2019:19:04:31] ENGINE Bus STARTING\n",
      "CherryPy Checker:\n",
      "The Application mounted at '' has an empty config.\n",
      "\n",
      "[23/Sep/2019:19:04:31] ENGINE Started monitor thread 'Autoreloader'.\n",
      "[23/Sep/2019:19:04:31] ENGINE Serving on http://127.0.0.1:8080\n",
      "[23/Sep/2019:19:04:31] ENGINE Bus STARTED\n"
     ]
    },
    {
     "name": "stdout",
     "output_type": "stream",
     "text": [
      "127.0.0.1 - - [23/Sep/2019:19:04:32] \"GET /?code=23794d7140b76e35821140dcc08e8853401397fe&state=hHh84JBqGBzaCQTY3RNYQWQJVZx8kB HTTP/1.1\" 200 122 \"\" \"Mozilla/5.0 (X11; Linux x86_64) AppleWebKit/537.36 (KHTML, like Gecko) Chrome/72.0.3626.121 Safari/537.36\"\n",
      "127.0.0.1 - - [23/Sep/2019:19:04:32] \"GET /favicon.ico HTTP/1.1\" 200 1406 \"http://127.0.0.1:8080/?code=23794d7140b76e35821140dcc08e8853401397fe&state=hHh84JBqGBzaCQTY3RNYQWQJVZx8kB\" \"Mozilla/5.0 (X11; Linux x86_64) AppleWebKit/537.36 (KHTML, like Gecko) Chrome/72.0.3626.121 Safari/537.36\"\n"
     ]
    },
    {
     "name": "stderr",
     "output_type": "stream",
     "text": [
      "[23/Sep/2019:19:04:33] ENGINE Bus STOPPING\n",
      "[23/Sep/2019:19:04:38] ENGINE HTTP Server cherrypy._cpwsgi_server.CPWSGIServer(('127.0.0.1', 8080)) shut down\n",
      "[23/Sep/2019:19:04:38] ENGINE Stopped thread 'Autoreloader'.\n",
      "[23/Sep/2019:19:04:38] ENGINE Bus STOPPED\n",
      "[23/Sep/2019:19:04:38] ENGINE Bus EXITING\n",
      "[23/Sep/2019:19:04:38] ENGINE Bus EXITED\n",
      "[23/Sep/2019:19:04:38] ENGINE Waiting for child threads to terminate...\n"
     ]
    }
   ],
   "source": [
    "server = Oauth2.OAuth2Server(CLIENT_ID, CLIENT_SECRET)\n",
    "server.browser_authorize()\n",
    "\n",
    "ACCESS_TOKEN = str(server.fitbit.client.session.token['access_token'])\n",
    "REFRESH_TOKEN = str(server.fitbit.client.session.token['refresh_token'])\n",
    "\n",
    "auth2_client = fitbit.Fitbit(CLIENT_ID, CLIENT_SECRET, oauth2=True, access_token=ACCESS_TOKEN, refresh_token=REFRESH_TOKEN)"
   ]
  },
  {
   "cell_type": "markdown",
   "metadata": {},
   "source": [
    "### Pull Sleep Data \n",
    "See the fitbit Python API [documentation](https://python-fitbit.readthedocs.io/en/latest/) to understand how to retrieve sleep data as well as other relevant data points. "
   ]
  },
  {
   "cell_type": "code",
   "execution_count": 16,
   "metadata": {
    "scrolled": true
   },
   "outputs": [
    {
     "data": {
      "text/plain": [
       "{'stages': {'deep': 123, 'light': 220, 'rem': 99, 'wake': 63},\n",
       " 'totalMinutesAsleep': 466,\n",
       " 'totalSleepRecords': 1,\n",
       " 'totalTimeInBed': 505}"
      ]
     },
     "execution_count": 16,
     "metadata": {},
     "output_type": "execute_result"
    }
   ],
   "source": [
    "# Get sleep data for a particular day; make sure data is in datetime.\n",
    "day = datetime.datetime(2019, 8, 28)\n",
    "sleep_results_dict = auth2_client.get_sleep(day)\n",
    "sleep_results_dict['summary']"
   ]
  }
 ],
 "metadata": {
  "kernelspec": {
   "display_name": "Python 3",
   "language": "python",
   "name": "python3"
  },
  "language_info": {
   "codemirror_mode": {
    "name": "ipython",
    "version": 3
   },
   "file_extension": ".py",
   "mimetype": "text/x-python",
   "name": "python",
   "nbconvert_exporter": "python",
   "pygments_lexer": "ipython3",
   "version": "3.6.9"
  }
 },
 "nbformat": 4,
 "nbformat_minor": 2
}
